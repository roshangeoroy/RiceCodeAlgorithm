{
  "nbformat": 4,
  "nbformat_minor": 0,
  "metadata": {
    "colab": {
      "provenance": [],
      "authorship_tag": "ABX9TyO+kXmXeOnhAFCKMm1rnf4v",
      "include_colab_link": true
    },
    "kernelspec": {
      "name": "python3",
      "display_name": "Python 3"
    },
    "language_info": {
      "name": "python"
    }
  },
  "cells": [
    {
      "cell_type": "markdown",
      "metadata": {
        "id": "view-in-github",
        "colab_type": "text"
      },
      "source": [
        "<a href=\"https://colab.research.google.com/github/roshangeoroy/RiceCodeAlgorithm/blob/main/Rice_code%5Bdraft_1%5D.ipynb\" target=\"_parent\"><img src=\"https://colab.research.google.com/assets/colab-badge.svg\" alt=\"Open In Colab\"/></a>"
      ]
    },
    {
      "cell_type": "code",
      "execution_count": 36,
      "metadata": {
        "colab": {
          "base_uri": "https://localhost:8080/"
        },
        "id": "OC1jNvR6PBPZ",
        "outputId": "b81b84f9-6998-4c49-985b-cd5f9217819c"
      },
      "outputs": [
        {
          "output_type": "execute_result",
          "data": {
            "text/plain": [
              "[32, 2, 4, 8, 3, 2, 2, 2, 0, 0, 0, 1, 2, 0, 2, 1]"
            ]
          },
          "metadata": {},
          "execution_count": 36
        }
      ],
      "source": [
        "import math\n",
        "import numpy as np\n",
        "def preprocessor(input_data,J):\n",
        "  predictor = [0] + input_data[:len(input_data)-1]\n",
        "\n",
        "  error = [(i-j) for i,j in zip(input_data,predictor)]\n",
        "\n",
        "  y_max = max(predictor)\n",
        "  y_min = min(predictor)\n",
        "\n",
        "  T = [min(i-y_min,y_max-i) for i in predictor]\n",
        "\n",
        "  delta=list()\n",
        "  for i in range(len(input_data)):\n",
        "    if(error[i]>=0 and error[i]<=T[i]):\n",
        "      delta.append(2*error[i])\n",
        "    elif(error[i]<0 and error[i]>=-T[i]):\n",
        "      delta.append(2*abs(error[i])-1)\n",
        "    else:\n",
        "      delta.append(T[i]+abs(error[i]))\n",
        "\n",
        "  return delta\n",
        "  print(predictor)\n",
        "  print(error)\n",
        "  print(y_max,y_min)\n",
        "  print(T)\n",
        "  print(delta)\n",
        "\n",
        "input_data=[32,33,35,39,37,38,39,40,40,40,40,39,40,40,41,40]\n",
        "J=0\n",
        "preprocessor(input_data,J)"
      ]
    },
    {
      "cell_type": "code",
      "source": [
        "np.floor(5.9)"
      ],
      "metadata": {
        "colab": {
          "base_uri": "https://localhost:8080/"
        },
        "id": "RfaJRo2TQmOZ",
        "outputId": "44b86bbd-5b55-4a3d-82a8-b6057c5b86aa"
      },
      "execution_count": 21,
      "outputs": [
        {
          "output_type": "execute_result",
          "data": {
            "text/plain": [
              "5.0"
            ]
          },
          "metadata": {},
          "execution_count": 21
        }
      ]
    },
    {
      "cell_type": "code",
      "source": [
        "def unary_coder(n):\n",
        "  bin_n='0'*n+'1'\n",
        "  return bin_n\n",
        "\n",
        "def encoder(delta,k):\n",
        "  d_max=max(delta)\n",
        "  n=np.floor(np.log2(d_max)+1)\n",
        "  for i in delta:\n",
        "    i_bin=np.binary_repr(int(i), width=int(n))\n",
        "    out_init=i_bin[int(n)-k:int(n)]\n",
        "    out=out_init + unary_coder(int(i_bin[:int(n)-k],2))\n",
        "    print(out)\n",
        "\n",
        "delta=preprocessor(input_data,J)\n",
        "print(delta)\n",
        "encoder(delta,1)"
      ],
      "metadata": {
        "colab": {
          "base_uri": "https://localhost:8080/"
        },
        "id": "v02ENzLsQoMG",
        "outputId": "ca34899c-de66-4e9e-a203-f9b8a9d68a37"
      },
      "execution_count": 38,
      "outputs": [
        {
          "output_type": "stream",
          "name": "stdout",
          "text": [
            "[32, 2, 4, 8, 3, 2, 2, 2, 0, 0, 0, 1, 2, 0, 2, 1]\n",
            "000000000000000001\n",
            "001\n",
            "0001\n",
            "000001\n",
            "101\n",
            "001\n",
            "001\n",
            "001\n",
            "01\n",
            "01\n",
            "01\n",
            "11\n",
            "001\n",
            "01\n",
            "001\n",
            "11\n"
          ]
        }
      ]
    },
    {
      "cell_type": "code",
      "source": [],
      "metadata": {
        "id": "QuDSaSNXcf9k"
      },
      "execution_count": null,
      "outputs": []
    }
  ]
}