{
 "cells": [
  {
   "cell_type": "markdown",
   "metadata": {},
   "source": []
  },
  {
   "cell_type": "code",
   "execution_count": 20,
   "metadata": {},
   "outputs": [],
   "source": [
    "import numpy as np\n",
    "import math\n",
    "#block size\n",
    "J=8\n",
    "#Number of Bits\n",
    "N=8\n",
    "\n",
    "#Sample Data\n",
    "A=np.array([101,101,100,101,99,101,223,100])\n"
   ]
  },
  {
   "cell_type": "code",
   "execution_count": 27,
   "metadata": {},
   "outputs": [
    {
     "data": {
      "text/plain": [
       "array([  0., 101., 101., 100., 101.,  99., 101., 223.])"
      ]
     },
     "execution_count": 27,
     "metadata": {},
     "output_type": "execute_result"
    }
   ],
   "source": [
    "#predictor\n",
    "S2=np.array([0])\n",
    "Acap=np.array([])\n",
    "#unit delay\n",
    "for i in range(len(A)):\n",
    "    Acap=np.concatenate([Acap,S2])\n",
    "    S2=np.array([A[i]])\n",
    "Acap\n",
    "    "
   ]
  },
  {
   "cell_type": "code",
   "execution_count": 28,
   "metadata": {},
   "outputs": [
    {
     "data": {
      "text/plain": [
       "array([ 101.,    0.,   -1.,    1.,   -2.,    2.,  122., -123.])"
      ]
     },
     "execution_count": 28,
     "metadata": {},
     "output_type": "execute_result"
    }
   ],
   "source": [
    "E=np.array([])\n",
    "E=A-Acap\n",
    "E    "
   ]
  },
  {
   "cell_type": "code",
   "execution_count": 29,
   "metadata": {},
   "outputs": [
    {
     "data": {
      "text/plain": [
       "array([101.,   0.,   1.,   2.,   3.,   4., 223., 155.])"
      ]
     },
     "execution_count": 29,
     "metadata": {},
     "output_type": "execute_result"
    }
   ],
   "source": [
    "#Mapping E to positive integer numbers\n",
    "xmin=0\n",
    "xmax=2**N - 1\n",
    "xmax\n",
    "for i in range(len(E)):\n",
    "    theta=min(Acap[i]-xmin,xmax-Acap[i])\n",
    "    \n",
    "    if E[i]<=theta and E[i]>=0:\n",
    "        E[i]=2*E[i]\n",
    "    elif E[i] <0 and E[i]>=-1*theta:\n",
    "        E[i]= 2*abs(E[i]) - 1\n",
    "    else:\n",
    "        E[i]=theta+ abs(E[i])\n",
    "E"
   ]
  },
  {
   "cell_type": "code",
   "execution_count": 31,
   "metadata": {},
   "outputs": [
    {
     "data": {
      "text/plain": [
       "[array([101.,   0.,   1.,   2.,   3.,   4., 223., 155.])]"
      ]
     },
     "execution_count": 31,
     "metadata": {},
     "output_type": "execute_result"
    }
   ],
   "source": [
    "#splitting into J blocks\n",
    "splitlength=len(E)/J\n",
    "Jblocks=np.split(E,splitlength)\n",
    "Jblocks"
   ]
  },
  {
   "cell_type": "code",
   "execution_count": 43,
   "metadata": {},
   "outputs": [
    {
     "ename": "TypeError",
     "evalue": "_append_dispatcher() missing 1 required positional argument: 'values'",
     "output_type": "error",
     "traceback": [
      "\u001b[1;31m---------------------------------------------------------------------------\u001b[0m",
      "\u001b[1;31mTypeError\u001b[0m                                 Traceback (most recent call last)",
      "Cell \u001b[1;32mIn[43], line 5\u001b[0m\n\u001b[0;32m      3\u001b[0m Ecap\u001b[39m=\u001b[39mnp\u001b[39m.\u001b[39marray([])\n\u001b[0;32m      4\u001b[0m \u001b[39mfor\u001b[39;00m i \u001b[39min\u001b[39;00m \u001b[39mrange\u001b[39m(\u001b[39mlen\u001b[39m(E)):\n\u001b[1;32m----> 5\u001b[0m     Ecap\u001b[39m=\u001b[39mnp\u001b[39m.\u001b[39;49mappend(binarr(\u001b[39mint\u001b[39;49m(E[i]),N))\n",
      "File \u001b[1;32m<__array_function__ internals>:179\u001b[0m, in \u001b[0;36mappend\u001b[1;34m(*args, **kwargs)\u001b[0m\n",
      "\u001b[1;31mTypeError\u001b[0m: _append_dispatcher() missing 1 required positional argument: 'values'"
     ]
    }
   ],
   "source": []
  },
  {
   "cell_type": "code",
   "execution_count": 44,
   "metadata": {},
   "outputs": [],
   "source": [
    "def binarr(a,x):\n",
    "    binnum = [int(i) for i in list('{0:0b}'.format(a))]\n",
    "    s=np.zeros(x-len(binnum))\n",
    "    binnum=np.concatenate([s,binnum])\n",
    "    return binnum"
   ]
  },
  {
   "cell_type": "code",
   "execution_count": 52,
   "metadata": {},
   "outputs": [
    {
     "name": "stdout",
     "output_type": "stream",
     "text": [
      "[0. 1. 1. 0. 0. 1. 0. 1.]\n",
      "[0. 0. 0. 0. 0. 0. 0. 0.]\n",
      "[0. 0. 0. 0. 0. 0. 0. 1.]\n",
      "[0. 0. 0. 0. 0. 0. 1. 0.]\n",
      "[0. 0. 0. 0. 0. 0. 1. 1.]\n",
      "[0. 0. 0. 0. 0. 1. 0. 0.]\n",
      "[1. 1. 0. 1. 1. 1. 1. 1.]\n",
      "[1. 0. 0. 1. 1. 0. 1. 1.]\n"
     ]
    }
   ],
   "source": [
    "for E in Jblocks:\n",
    "    #converting each integer in E into binary array\n",
    "    Ecap=np.array([])\n",
    "    for i in range(len(E)):\n",
    "        print(binarr(int(E[i]),N))\n",
    "\n"
   ]
  },
  {
   "cell_type": "code",
   "execution_count": 48,
   "metadata": {},
   "outputs": [
    {
     "data": {
      "text/plain": [
       "array([], dtype=float64)"
      ]
     },
     "execution_count": 48,
     "metadata": {},
     "output_type": "execute_result"
    }
   ],
   "source": [
    "Ecap"
   ]
  },
  {
   "cell_type": "code",
   "execution_count": null,
   "metadata": {},
   "outputs": [],
   "source": []
  }
 ],
 "metadata": {
  "kernelspec": {
   "display_name": "Python 3.11.0 64-bit",
   "language": "python",
   "name": "python3"
  },
  "language_info": {
   "codemirror_mode": {
    "name": "ipython",
    "version": 3
   },
   "file_extension": ".py",
   "mimetype": "text/x-python",
   "name": "python",
   "nbconvert_exporter": "python",
   "pygments_lexer": "ipython3",
   "version": "3.11.0"
  },
  "orig_nbformat": 4,
  "vscode": {
   "interpreter": {
    "hash": "a15db6f0e740e663a5ea7af438bdd40a5ff9297b8946fbed4dc7ad6c56ab2152"
   }
  }
 },
 "nbformat": 4,
 "nbformat_minor": 2
}
